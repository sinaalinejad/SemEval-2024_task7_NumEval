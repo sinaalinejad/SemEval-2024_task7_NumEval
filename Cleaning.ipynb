{
 "cells": [
  {
   "cell_type": "code",
   "execution_count": 1,
   "metadata": {},
   "outputs": [],
   "source": [
    "import re"
   ]
  },
  {
   "cell_type": "markdown",
   "metadata": {},
   "source": [
    "# Some functions for cleaning the data"
   ]
  },
  {
   "cell_type": "code",
   "execution_count": 4,
   "metadata": {},
   "outputs": [],
   "source": [
    "def replace_newline_tab(text: str) -> str:\n",
    "    \"\"\"\n",
    "    Replaces all newline and tab characters with a space.\n",
    "    \"\"\"\n",
    "    return re.sub(r\"[\\n\\t]\", \" \", text)\n",
    "\n",
    "def remove_commas(text: str) -> str:\n",
    "    \"\"\"\n",
    "    Removes commas from thousand-seperated numbers in the text.\n",
    "    \"\"\"\n",
    "    return re.sub(r\"(?<=\\d),(?=\\d)\", \"\", text)\n",
    "\n",
    "def mask_text(text: str, mask_token: str) -> str:\n",
    "    \"\"\"\n",
    "    Replaces the blank part of the headline with the mask token.\n",
    "    \"\"\"\n",
    "    return text.replace(\"____\", mask_token)"
   ]
  },
  {
   "cell_type": "code",
   "execution_count": 5,
   "metadata": {},
   "outputs": [
    {
     "name": "stdout",
     "output_type": "stream",
     "text": [
      "This is some text with   and   characters. It also contains, numbers like 1992 and 222222. Finally, it has a blank: [MASK]. \n"
     ]
    }
   ],
   "source": [
    "# text = \"This is some text with \\n and \\t characters. It also contains, numbers like 1,992 and 222,222. Finally, it has a blank: ____. \"\n",
    "# mask_token = \"[MASK]\"\n",
    "\n",
    "# cleaned_text = replace_newline_tab(text)\n",
    "# cleaned_text = remove_commas(cleaned_text)\n",
    "# cleaned_text = mask_text(cleaned_text, mask_token)\n",
    "\n",
    "# print(cleaned_text)"
   ]
  }
 ],
 "metadata": {
  "kernelspec": {
   "display_name": "Python 3",
   "language": "python",
   "name": "python3"
  },
  "language_info": {
   "codemirror_mode": {
    "name": "ipython",
    "version": 3
   },
   "file_extension": ".py",
   "mimetype": "text/x-python",
   "name": "python",
   "nbconvert_exporter": "python",
   "pygments_lexer": "ipython3",
   "version": "3.9.0"
  }
 },
 "nbformat": 4,
 "nbformat_minor": 2
}
