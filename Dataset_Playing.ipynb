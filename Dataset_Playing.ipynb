{
 "cells": [
  {
   "cell_type": "code",
   "execution_count": 1,
   "metadata": {},
   "outputs": [],
   "source": [
    "import json\n",
    "import random"
   ]
  },
  {
   "cell_type": "code",
   "execution_count": 2,
   "metadata": {},
   "outputs": [
    {
     "name": "stdout",
     "output_type": "stream",
     "text": [
      "21157\n",
      "2572\n"
     ]
    }
   ],
   "source": [
    "train_num_reason = json.load(open(\"data/Train_Numerical_Reasoning.json\"))\n",
    "dev_num_reason = json.load(open(\"data/Dev_Numerical_Reasoning.json\"))\n",
    "print(len(train_num_reason))\n",
    "print(len(dev_num_reason))"
   ]
  },
  {
   "cell_type": "code",
   "execution_count": 24,
   "metadata": {},
   "outputs": [
    {
     "name": "stdout",
     "output_type": "stream",
     "text": [
      "0.010497667185069984\n"
     ]
    }
   ],
   "source": [
    "# \n",
    "# rnd = random.randrange(len(train_num_reason))\n",
    "# print(train_num_reason[rnd][\"news\"])\n",
    "# print(train_num_reason[rnd][\"masked headline\"])\n",
    "# print(train_num_reason[rnd][\"ans\"])\n",
    "# print(train_num_reason[rnd][\"calculation\"])\n",
    "## we have 705 weird samples(calculations) out of 21157 samples in train set\n",
    "## we have 77 weird samples(calculations) out of 2572 samples in dev set\n",
    "num = 0\n",
    "for item in dev_num_reason:\n",
    "  if \"Span\" in item[\"calculation\"]:\n",
    "    num += 1\n",
    "\n",
    "print(num / 2572)"
   ]
  },
  {
   "cell_type": "code",
   "execution_count": 8,
   "metadata": {},
   "outputs": [
    {
     "name": "stdout",
     "output_type": "stream",
     "text": [
      "11\n"
     ]
    }
   ],
   "source": [
    "print(len(samples))"
   ]
  }
 ],
 "metadata": {
  "kernelspec": {
   "display_name": "Python 3",
   "language": "python",
   "name": "python3"
  },
  "language_info": {
   "codemirror_mode": {
    "name": "ipython",
    "version": 3
   },
   "file_extension": ".py",
   "mimetype": "text/x-python",
   "name": "python",
   "nbconvert_exporter": "python",
   "pygments_lexer": "ipython3",
   "version": "3.9.0"
  },
  "orig_nbformat": 4
 },
 "nbformat": 4,
 "nbformat_minor": 2
}
